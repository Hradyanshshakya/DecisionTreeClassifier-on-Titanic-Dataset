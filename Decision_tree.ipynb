{
  "cells": [
    {
      "cell_type": "markdown",
      "metadata": {
        "id": "CSribOd9mB6D"
      },
      "source": [
        "<h1 align='center' style='color:purple'><b>Decision Trees - Part 1</b></h1>"
      ]
    },
    {
      "cell_type": "markdown",
      "metadata": {
        "id": "UNTH7XdPUlzE"
      },
      "source": [
        "A decision tree follows tree-like model of decisions and their possible outcomes. It is a way to represent an algorithm that only contains conditional control statements.\n",
        "It a flowchart-like structure. Each internal node represents a \"test\" on a feature whereas every branch represents the outcome of the test, & each terminal/leaf node represents the outcome which can be a continuous value or class label for regression and classification problem respectively.  \n",
        " - It is a Supervised Learning Algorithm.\n",
        " - it can be used for both classification and regression problems.\n",
        " - It can also handle non-linear data which was not possible in case of linear models\n",
        "\n",
        "Advantages :  \n",
        " - Simple and easy to understand and visualize\n",
        " - Somewhat resistant to outliers\n",
        " - No Feature Scaling is Required.\n",
        "\n",
        "Disadvantages :  \n",
        " - Overfitting\n",
        " - High variance\n",
        " - Not suitable for large Datasets"
      ]
    },
    {
      "cell_type": "markdown",
      "metadata": {
        "id": "NlC2QEedqtnq"
      },
      "source": [
        "<b>Load the data that we will be using to train our model</b>\n",
        "\n",
        "Here we are using Titanic dataset which contains the data from one of the most infamous shipwrecks in history : The sinking of the Titanic."
      ]
    },
    {
      "cell_type": "markdown",
      "metadata": {
        "id": "f-hpusYQl-ak"
      },
      "source": [
        "<b> Import Necessary Libraries</b>"
      ]
    },
    {
      "cell_type": "code",
      "execution_count": null,
      "metadata": {
        "id": "M3R--OyyBJrq"
      },
      "outputs": [],
      "source": [
        "import pandas as pd\n",
        "import seaborn as sns\n",
        "import matplotlib.pyplot as plt\n",
        "import numpy as np\n",
        "%matplotlib inline"
      ]
    },
    {
      "cell_type": "markdown",
      "metadata": {
        "id": "-Hr2JvtAmB6c"
      },
      "source": [
        "<b>Get the data<b/>"
      ]
    },
    {
      "cell_type": "code",
      "execution_count": null,
      "metadata": {
        "colab": {
          "base_uri": "https://localhost:8080/",
          "height": 225
        },
        "id": "CdbkTbNaByA2",
        "outputId": "77329b52-ef55-427d-c0b1-2034e1bf9bb3"
      },
      "outputs": [
        {
          "data": {
            "text/html": [
              "<div>\n",
              "<style scoped>\n",
              "    .dataframe tbody tr th:only-of-type {\n",
              "        vertical-align: middle;\n",
              "    }\n",
              "\n",
              "    .dataframe tbody tr th {\n",
              "        vertical-align: top;\n",
              "    }\n",
              "\n",
              "    .dataframe thead th {\n",
              "        text-align: right;\n",
              "    }\n",
              "</style>\n",
              "<table border=\"1\" class=\"dataframe\">\n",
              "  <thead>\n",
              "    <tr style=\"text-align: right;\">\n",
              "      <th></th>\n",
              "      <th>Survived</th>\n",
              "      <th>Pclass</th>\n",
              "      <th>Name</th>\n",
              "      <th>Sex</th>\n",
              "      <th>Age</th>\n",
              "      <th>SibSp</th>\n",
              "      <th>Parch</th>\n",
              "      <th>Ticket</th>\n",
              "      <th>Fare</th>\n",
              "      <th>Cabin</th>\n",
              "      <th>Embarked</th>\n",
              "    </tr>\n",
              "    <tr>\n",
              "      <th>PassengerId</th>\n",
              "      <th></th>\n",
              "      <th></th>\n",
              "      <th></th>\n",
              "      <th></th>\n",
              "      <th></th>\n",
              "      <th></th>\n",
              "      <th></th>\n",
              "      <th></th>\n",
              "      <th></th>\n",
              "      <th></th>\n",
              "      <th></th>\n",
              "    </tr>\n",
              "  </thead>\n",
              "  <tbody>\n",
              "    <tr>\n",
              "      <th>1</th>\n",
              "      <td>0</td>\n",
              "      <td>3</td>\n",
              "      <td>Braund, Mr. Owen Harris</td>\n",
              "      <td>male</td>\n",
              "      <td>22.0</td>\n",
              "      <td>1</td>\n",
              "      <td>0</td>\n",
              "      <td>A/5 21171</td>\n",
              "      <td>7.2500</td>\n",
              "      <td>NaN</td>\n",
              "      <td>S</td>\n",
              "    </tr>\n",
              "    <tr>\n",
              "      <th>2</th>\n",
              "      <td>1</td>\n",
              "      <td>1</td>\n",
              "      <td>Cumings, Mrs. John Bradley (Florence Briggs Th...</td>\n",
              "      <td>female</td>\n",
              "      <td>38.0</td>\n",
              "      <td>1</td>\n",
              "      <td>0</td>\n",
              "      <td>PC 17599</td>\n",
              "      <td>71.2833</td>\n",
              "      <td>C85</td>\n",
              "      <td>C</td>\n",
              "    </tr>\n",
              "    <tr>\n",
              "      <th>3</th>\n",
              "      <td>1</td>\n",
              "      <td>3</td>\n",
              "      <td>Heikkinen, Miss. Laina</td>\n",
              "      <td>female</td>\n",
              "      <td>26.0</td>\n",
              "      <td>0</td>\n",
              "      <td>0</td>\n",
              "      <td>STON/O2. 3101282</td>\n",
              "      <td>7.9250</td>\n",
              "      <td>NaN</td>\n",
              "      <td>S</td>\n",
              "    </tr>\n",
              "    <tr>\n",
              "      <th>4</th>\n",
              "      <td>1</td>\n",
              "      <td>1</td>\n",
              "      <td>Futrelle, Mrs. Jacques Heath (Lily May Peel)</td>\n",
              "      <td>female</td>\n",
              "      <td>35.0</td>\n",
              "      <td>1</td>\n",
              "      <td>0</td>\n",
              "      <td>113803</td>\n",
              "      <td>53.1000</td>\n",
              "      <td>C123</td>\n",
              "      <td>S</td>\n",
              "    </tr>\n",
              "    <tr>\n",
              "      <th>5</th>\n",
              "      <td>0</td>\n",
              "      <td>3</td>\n",
              "      <td>Allen, Mr. William Henry</td>\n",
              "      <td>male</td>\n",
              "      <td>35.0</td>\n",
              "      <td>0</td>\n",
              "      <td>0</td>\n",
              "      <td>373450</td>\n",
              "      <td>8.0500</td>\n",
              "      <td>NaN</td>\n",
              "      <td>S</td>\n",
              "    </tr>\n",
              "  </tbody>\n",
              "</table>\n",
              "</div>"
            ],
            "text/plain": [
              "             Survived  Pclass  \\\n",
              "PassengerId                     \n",
              "1                   0       3   \n",
              "2                   1       1   \n",
              "3                   1       3   \n",
              "4                   1       1   \n",
              "5                   0       3   \n",
              "\n",
              "                                                          Name     Sex   Age  \\\n",
              "PassengerId                                                                    \n",
              "1                                      Braund, Mr. Owen Harris    male  22.0   \n",
              "2            Cumings, Mrs. John Bradley (Florence Briggs Th...  female  38.0   \n",
              "3                                       Heikkinen, Miss. Laina  female  26.0   \n",
              "4                 Futrelle, Mrs. Jacques Heath (Lily May Peel)  female  35.0   \n",
              "5                                     Allen, Mr. William Henry    male  35.0   \n",
              "\n",
              "             SibSp  Parch            Ticket     Fare Cabin Embarked  \n",
              "PassengerId                                                          \n",
              "1                1      0         A/5 21171   7.2500   NaN        S  \n",
              "2                1      0          PC 17599  71.2833   C85        C  \n",
              "3                0      0  STON/O2. 3101282   7.9250   NaN        S  \n",
              "4                1      0            113803  53.1000  C123        S  \n",
              "5                0      0            373450   8.0500   NaN        S  "
            ]
          },
          "execution_count": 2,
          "metadata": {},
          "output_type": "execute_result"
        }
      ],
      "source": [
        "import pandas as pd\n",
        "\n",
        "df = pd.read_csv('titanic.csv',index_col=0)\n",
        "df.head()"
      ]
    },
    {
      "cell_type": "markdown",
      "metadata": {
        "id": "jOWbYBd2sfl7"
      },
      "source": [
        "<b>Data Dictionary</b>\n",
        "\n",
        "##### Variable\t& Definition\n",
        " - Survived (Target) :\tSurvival of passenger\t(0 = No, 1 = Yes)\n",
        " - Pclass : Ticket class\t(1 = 1st, 2 = 2nd, 3 = 3rd)\n",
        " - Sex : Gender\n",
        " - Age : Age in years\n",
        " - Sibsp :\t# of siblings / spouses aboard the Titanic\n",
        " - Parch : # of parents / children aboard the Titanic\n",
        " - Ticket :\tTicket number\n",
        " - Fare :\tPassenger fare\n",
        " - Cabin : Cabin number\n",
        " - Embarked :\tPort of Embarkation\t(C = Cherbourg, Q = Queenstown, S =  Southampton)\n"
      ]
    },
    {
      "cell_type": "markdown",
      "metadata": {
        "id": "Pma9H6EynMPm"
      },
      "source": [
        "<b>Drop insignificant Variables<b/>"
      ]
    },
    {
      "cell_type": "code",
      "execution_count": null,
      "metadata": {
        "id": "bQZ_EpIBCBrL"
      },
      "outputs": [],
      "source": [
        "df.drop(['Name','SibSp','Parch','Ticket','Cabin','Embarked'],axis='columns',inplace=True)"
      ]
    },
    {
      "cell_type": "markdown",
      "metadata": {
        "id": "jimYHxMZEcW1"
      },
      "source": [
        "As a person's survival may not depend on these variables."
      ]
    },
    {
      "cell_type": "code",
      "execution_count": null,
      "metadata": {
        "colab": {
          "base_uri": "https://localhost:8080/",
          "height": 225
        },
        "id": "WgOpwZOQCG7S",
        "outputId": "042074e8-bdb1-4510-a13b-246bc0c9d203"
      },
      "outputs": [
        {
          "data": {
            "text/html": [
              "<div>\n",
              "<style scoped>\n",
              "    .dataframe tbody tr th:only-of-type {\n",
              "        vertical-align: middle;\n",
              "    }\n",
              "\n",
              "    .dataframe tbody tr th {\n",
              "        vertical-align: top;\n",
              "    }\n",
              "\n",
              "    .dataframe thead th {\n",
              "        text-align: right;\n",
              "    }\n",
              "</style>\n",
              "<table border=\"1\" class=\"dataframe\">\n",
              "  <thead>\n",
              "    <tr style=\"text-align: right;\">\n",
              "      <th></th>\n",
              "      <th>Survived</th>\n",
              "      <th>Pclass</th>\n",
              "      <th>Sex</th>\n",
              "      <th>Age</th>\n",
              "      <th>Fare</th>\n",
              "    </tr>\n",
              "    <tr>\n",
              "      <th>PassengerId</th>\n",
              "      <th></th>\n",
              "      <th></th>\n",
              "      <th></th>\n",
              "      <th></th>\n",
              "      <th></th>\n",
              "    </tr>\n",
              "  </thead>\n",
              "  <tbody>\n",
              "    <tr>\n",
              "      <th>1</th>\n",
              "      <td>0</td>\n",
              "      <td>3</td>\n",
              "      <td>male</td>\n",
              "      <td>22.0</td>\n",
              "      <td>7.2500</td>\n",
              "    </tr>\n",
              "    <tr>\n",
              "      <th>2</th>\n",
              "      <td>1</td>\n",
              "      <td>1</td>\n",
              "      <td>female</td>\n",
              "      <td>38.0</td>\n",
              "      <td>71.2833</td>\n",
              "    </tr>\n",
              "    <tr>\n",
              "      <th>3</th>\n",
              "      <td>1</td>\n",
              "      <td>3</td>\n",
              "      <td>female</td>\n",
              "      <td>26.0</td>\n",
              "      <td>7.9250</td>\n",
              "    </tr>\n",
              "    <tr>\n",
              "      <th>4</th>\n",
              "      <td>1</td>\n",
              "      <td>1</td>\n",
              "      <td>female</td>\n",
              "      <td>35.0</td>\n",
              "      <td>53.1000</td>\n",
              "    </tr>\n",
              "    <tr>\n",
              "      <th>5</th>\n",
              "      <td>0</td>\n",
              "      <td>3</td>\n",
              "      <td>male</td>\n",
              "      <td>35.0</td>\n",
              "      <td>8.0500</td>\n",
              "    </tr>\n",
              "  </tbody>\n",
              "</table>\n",
              "</div>"
            ],
            "text/plain": [
              "             Survived  Pclass     Sex   Age     Fare\n",
              "PassengerId                                         \n",
              "1                   0       3    male  22.0   7.2500\n",
              "2                   1       1  female  38.0  71.2833\n",
              "3                   1       3  female  26.0   7.9250\n",
              "4                   1       1  female  35.0  53.1000\n",
              "5                   0       3    male  35.0   8.0500"
            ]
          },
          "execution_count": 4,
          "metadata": {},
          "output_type": "execute_result"
        }
      ],
      "source": [
        "df.head()"
      ]
    },
    {
      "cell_type": "markdown",
      "metadata": {
        "id": "iD_64GE7sEXR"
      },
      "source": [
        "<b>Separate Inputs and Target</b>"
      ]
    },
    {
      "cell_type": "code",
      "execution_count": null,
      "metadata": {
        "id": "3hakSLXACWGT"
      },
      "outputs": [],
      "source": [
        "inputs = df.drop('Survived',axis='columns')\n",
        "target = df.Survived"
      ]
    },
    {
      "cell_type": "markdown",
      "metadata": {
        "id": "R4OR4XxUt8KJ"
      },
      "source": [
        "<b>Encode Categorical Variables 'Sex', as decision trees implemented in scikit-learn accepts numerical variables only.</b>\n"
      ]
    },
    {
      "cell_type": "code",
      "execution_count": null,
      "metadata": {
        "id": "_TWrJZmVCelg"
      },
      "outputs": [],
      "source": [
        "inputs.Sex = inputs.Sex.map({'male': 1, 'female': 0})"
      ]
    },
    {
      "cell_type": "code",
      "execution_count": null,
      "metadata": {
        "id": "EuJOSuh7UlzI",
        "outputId": "766945b3-50c6-49ac-85ed-885f4e148323"
      },
      "outputs": [
        {
          "data": {
            "text/html": [
              "<div>\n",
              "<style scoped>\n",
              "    .dataframe tbody tr th:only-of-type {\n",
              "        vertical-align: middle;\n",
              "    }\n",
              "\n",
              "    .dataframe tbody tr th {\n",
              "        vertical-align: top;\n",
              "    }\n",
              "\n",
              "    .dataframe thead th {\n",
              "        text-align: right;\n",
              "    }\n",
              "</style>\n",
              "<table border=\"1\" class=\"dataframe\">\n",
              "  <thead>\n",
              "    <tr style=\"text-align: right;\">\n",
              "      <th></th>\n",
              "      <th>Pclass</th>\n",
              "      <th>Sex</th>\n",
              "      <th>Age</th>\n",
              "      <th>Fare</th>\n",
              "    </tr>\n",
              "    <tr>\n",
              "      <th>PassengerId</th>\n",
              "      <th></th>\n",
              "      <th></th>\n",
              "      <th></th>\n",
              "      <th></th>\n",
              "    </tr>\n",
              "  </thead>\n",
              "  <tbody>\n",
              "    <tr>\n",
              "      <th>1</th>\n",
              "      <td>3</td>\n",
              "      <td>1</td>\n",
              "      <td>22.0</td>\n",
              "      <td>7.2500</td>\n",
              "    </tr>\n",
              "    <tr>\n",
              "      <th>2</th>\n",
              "      <td>1</td>\n",
              "      <td>0</td>\n",
              "      <td>38.0</td>\n",
              "      <td>71.2833</td>\n",
              "    </tr>\n",
              "    <tr>\n",
              "      <th>3</th>\n",
              "      <td>3</td>\n",
              "      <td>0</td>\n",
              "      <td>26.0</td>\n",
              "      <td>7.9250</td>\n",
              "    </tr>\n",
              "    <tr>\n",
              "      <th>4</th>\n",
              "      <td>1</td>\n",
              "      <td>0</td>\n",
              "      <td>35.0</td>\n",
              "      <td>53.1000</td>\n",
              "    </tr>\n",
              "    <tr>\n",
              "      <th>5</th>\n",
              "      <td>3</td>\n",
              "      <td>1</td>\n",
              "      <td>35.0</td>\n",
              "      <td>8.0500</td>\n",
              "    </tr>\n",
              "  </tbody>\n",
              "</table>\n",
              "</div>"
            ],
            "text/plain": [
              "             Pclass  Sex   Age     Fare\n",
              "PassengerId                            \n",
              "1                 3    1  22.0   7.2500\n",
              "2                 1    0  38.0  71.2833\n",
              "3                 3    0  26.0   7.9250\n",
              "4                 1    0  35.0  53.1000\n",
              "5                 3    1  35.0   8.0500"
            ]
          },
          "execution_count": 8,
          "metadata": {},
          "output_type": "execute_result"
        }
      ],
      "source": [
        "inputs.head()"
      ]
    },
    {
      "cell_type": "code",
      "execution_count": null,
      "metadata": {
        "id": "n1lSEilTUlzI",
        "outputId": "ba8fc97e-4c0d-48e8-f600-cad9e75b3363"
      },
      "outputs": [
        {
          "data": {
            "text/plain": [
              "Pclass    0\n",
              "Sex       0\n",
              "Age       0\n",
              "Fare      0\n",
              "dtype: int64"
            ]
          },
          "execution_count": 15,
          "metadata": {},
          "output_type": "execute_result"
        }
      ],
      "source": [
        "inputs.isnull().sum()"
      ]
    },
    {
      "cell_type": "code",
      "execution_count": null,
      "metadata": {
        "colab": {
          "base_uri": "https://localhost:8080/"
        },
        "id": "pmpFuAzqCk_5",
        "outputId": "866f9fa4-94c9-4573-eb53-d54e6ec42abe"
      },
      "outputs": [
        {
          "data": {
            "text/plain": [
              "177"
            ]
          },
          "execution_count": 11,
          "metadata": {},
          "output_type": "execute_result"
        }
      ],
      "source": [
        "# print first 10 records\n",
        "inputs.Age.isnull().sum()"
      ]
    },
    {
      "cell_type": "markdown",
      "metadata": {
        "id": "IYDXczFkuFlF"
      },
      "source": [
        "<b>We can see that there are a few NaN values in Age. So we will  fill those missing values with the avergae age.</b>"
      ]
    },
    {
      "cell_type": "code",
      "execution_count": null,
      "metadata": {
        "id": "IiYpC1W5CoGQ"
      },
      "outputs": [],
      "source": [
        "inputs.Age = inputs.Age.fillna(inputs.Age.mean())"
      ]
    },
    {
      "cell_type": "code",
      "execution_count": null,
      "metadata": {
        "colab": {
          "base_uri": "https://localhost:8080/"
        },
        "id": "1EDRsFjQCstJ",
        "outputId": "ee334ad3-a825-4593-d514-59223f39d6c0"
      },
      "outputs": [
        {
          "data": {
            "text/plain": [
              "0"
            ]
          },
          "execution_count": 14,
          "metadata": {},
          "output_type": "execute_result"
        }
      ],
      "source": [
        "# print first 10 records\n",
        "inputs.Age.isnull().sum()"
      ]
    },
    {
      "cell_type": "markdown",
      "metadata": {
        "id": "jwLlc5-pucXM"
      },
      "source": [
        "The age of Passenger number 6 has been filled with the average age(29.699)."
      ]
    },
    {
      "cell_type": "markdown",
      "metadata": {
        "id": "h7j2ieLvp1tO"
      },
      "source": [
        "<b>Separate Training and Testing Data</b>"
      ]
    },
    {
      "cell_type": "code",
      "execution_count": null,
      "metadata": {
        "id": "_o7HI57GCwq0"
      },
      "outputs": [],
      "source": [
        "# import train_test_split from sklearn library\n",
        "from sklearn.model_selection import train_test_split"
      ]
    },
    {
      "cell_type": "code",
      "execution_count": null,
      "metadata": {
        "id": "Nh6RsJYEJuBE"
      },
      "outputs": [],
      "source": [
        "X_train, X_test, y_train, y_test = train_test_split(inputs,target,test_size=0.3)"
      ]
    },
    {
      "cell_type": "markdown",
      "metadata": {
        "id": "g4nkEkM94UcC"
      },
      "source": [
        "Here test_size is used to specify test data size. 0.3 means 30% of data will be used for test data & remaining 70% will be used for training data.  \n",
        " X_train, y_train : inputs and target of training data  \n",
        " X_test, y_test : inputs and target of testing data"
      ]
    },
    {
      "cell_type": "markdown",
      "metadata": {
        "id": "JsW9wRAKUlzJ"
      },
      "source": [
        "<b> Check the length of Traing and Testing Data</b>"
      ]
    },
    {
      "cell_type": "code",
      "execution_count": null,
      "metadata": {
        "colab": {
          "base_uri": "https://localhost:8080/"
        },
        "id": "CZcrYcsAJ8tN",
        "outputId": "559cacf0-660a-431a-c9b6-58227d9450c6"
      },
      "outputs": [
        {
          "name": "stdout",
          "output_type": "stream",
          "text": [
            "Length of Training Data : 623 that is 70% of original data.\n",
            "Length of Testing Data : 268 that is 30% of original data.\n"
          ]
        }
      ],
      "source": [
        "print('Length of Training Data : {} that is 70% of original data.'.format(len(X_train)))\n",
        "print('Length of Testing Data : {} that is 30% of original data.'.format(len(X_test)))"
      ]
    },
    {
      "cell_type": "markdown",
      "metadata": {
        "id": "TZePA9PEJqvE"
      },
      "source": [
        "<b>Import Decision Tree Classifier</b>  \n",
        "In this project, our target variable is of binary data type. So a Classification model will be used."
      ]
    },
    {
      "cell_type": "code",
      "execution_count": null,
      "metadata": {
        "id": "stQf8W3YKQd_"
      },
      "outputs": [],
      "source": [
        "from sklearn import tree\n",
        "\n",
        "# initialize a Decision Tree classifier model.\n",
        "model = tree.DecisionTreeClassifier()"
      ]
    },
    {
      "cell_type": "markdown",
      "metadata": {
        "id": "kIMvPUrB6Wz7"
      },
      "source": [
        "<b>Model Training</b> : Fitting/Training a model means that you're making your model learn the relationship b/w predictors and target so that you can predict the future values of the target."
      ]
    },
    {
      "cell_type": "code",
      "execution_count": null,
      "metadata": {
        "colab": {
          "base_uri": "https://localhost:8080/"
        },
        "id": "MLSuppOlW_1J",
        "outputId": "ea9eb0e3-32bb-4223-a1c0-c82494434836"
      },
      "outputs": [
        {
          "data": {
            "text/plain": [
              "DecisionTreeClassifier()"
            ]
          },
          "execution_count": 20,
          "metadata": {},
          "output_type": "execute_result"
        }
      ],
      "source": [
        "model.fit(X_train,y_train)"
      ]
    },
    {
      "cell_type": "markdown",
      "metadata": {
        "id": "AYBFZfed9Qyn"
      },
      "source": [
        "<b>After model training, make predictions for thet testing data.</b>"
      ]
    },
    {
      "cell_type": "code",
      "execution_count": null,
      "metadata": {
        "colab": {
          "base_uri": "https://localhost:8080/"
        },
        "id": "jue2BBKlXCvJ",
        "outputId": "82698c50-05b9-4d10-847a-67a139bd59e3"
      },
      "outputs": [
        {
          "name": "stdout",
          "output_type": "stream",
          "text": [
            "Print model accuracy = 0.799\n"
          ]
        }
      ],
      "source": [
        "model_accuracy = model.score(X_test,y_test)\n",
        "print('Print model accuracy =',round(model_accuracy,3))"
      ]
    },
    {
      "cell_type": "markdown",
      "metadata": {
        "id": "9p2vzPHn8LDB"
      },
      "source": [
        "model.score(X_test,ytest) : This function takes a feature matrix X_test and the expected target values y_test. Then y_testis compared with thet Predictions for X_test & either accuracy (for classification) or R2 score (for regression) is returned."
      ]
    },
    {
      "cell_type": "markdown",
      "metadata": {
        "id": "0UleeARVUlzK"
      },
      "source": [
        "<b> Plot Decision Tree </b>"
      ]
    },
    {
      "cell_type": "code",
      "execution_count": null,
      "metadata": {
        "colab": {
          "base_uri": "https://localhost:8080/",
          "height": 1000
        },
        "id": "pHrSyhfXXGZ1",
        "outputId": "56388737-68b8-42d4-cb39-9d291c278e39",
        "scrolled": false
      },
      "outputs": [
        {
          "data": {
            "image/png": "[encoded data removed]",
            "text/plain": [
              "<Figure size 432x288 with 1 Axes>"
            ]
          },
          "metadata": {
            "needs_background": "light"
          },
          "output_type": "display_data"
        }
      ],
      "source": [
        "# Initialize a figure and use figsize to control the size of the rendered image.\n",
        "#plt.figure(figsize=(120,110))\n",
        "\n",
        "# Plot Decision tree\n",
        "tree.plot_tree(model, filled=True);\n",
        "\n",
        "\n",
        "#Here filled is boolean parameter (default value = False) When set to True,\n",
        "#it paints the decisiontree nodes to indicate majority class for classification problem."
      ]
    },
    {
      "cell_type": "markdown",
      "metadata": {
        "id": "tWgBxieFDi3P"
      },
      "source": [
        "<b>Build a text report showing the rules of the Decision Tree model.</b>"
      ]
    },
    {
      "cell_type": "markdown",
      "metadata": {
        "id": "jW3Iq-5zIpHN"
      },
      "source": [
        "[<b> Minimal Cost-Complexity Pruning</b>](https://scikit-learn.org/stable/auto_examples/tree/plot_cost_complexity_pruning.html)  \n",
        "Minimal cost-complexity pruning is an algorithm used to prune a tree to avoid over-fitting. This pruning technique is parameterized by the cost complexity parameter, ccp_alpha. Greater values of ccp_alpha increase the number of nodes pruned.  \n",
        "ccp_alpha : (non-negative float, default=0.0)\n",
        "Complexity parameter used for Minimal Cost-Complexity Pruning. The subtree with the largest cost complexity that is smaller than ccp_alpha will be chosen. By default, no pruning is performed."
      ]
    },
    {
      "cell_type": "code",
      "execution_count": null,
      "metadata": {
        "id": "Wzw5a5pLgJ3Q"
      },
      "outputs": [],
      "source": [
        "path = model.cost_complexity_pruning_path(X_train, y_train)\n",
        "ccp_alphas, impurities = path.ccp_alphas, path.impurities"
      ]
    },
    {
      "cell_type": "code",
      "execution_count": null,
      "metadata": {
        "colab": {
          "base_uri": "https://localhost:8080/"
        },
        "id": "e6XKZA3m6mFj",
        "outputId": "d9ea99d0-8385-45d7-fdee-bc2e6b094d9c"
      },
      "outputs": [
        {
          "data": {
            "text/plain": [
              "array([0.        , 0.00025536, 0.00040128, 0.00040765, 0.00045273,\n",
              "       0.00048154, 0.00053505, 0.00066881, 0.00070815, 0.00075798,\n",
              "       0.00085777, 0.00096308, 0.00099366, 0.00100894, 0.00105793,\n",
              "       0.00107009, 0.00107009, 0.00107009, 0.00107009, 0.00112105,\n",
              "       0.00120385, 0.00124691, 0.00128411, 0.00133761, 0.00133761,\n",
              "       0.00137328, 0.00137583, 0.00139265, 0.00140449, 0.00142679,\n",
              "       0.00148166, 0.00149677, 0.00155336, 0.00158082, 0.0015924 ,\n",
              "       0.00160514, 0.00166834, 0.00171215, 0.00173304, 0.00175106,\n",
              "       0.00176565, 0.00187266, 0.00191088, 0.00192616, 0.0019317 ,\n",
              "       0.00214018, 0.00222936, 0.00231216, 0.00288925, 0.00294275,\n",
              "       0.00298785, 0.00302023, 0.00303192, 0.00309562, 0.00407292,\n",
              "       0.01250611, 0.01964485, 0.03698769, 0.12503939])"
            ]
          },
          "execution_count": 27,
          "metadata": {},
          "output_type": "execute_result"
        }
      ],
      "source": [
        "ccp_alphas"
      ]
    },
    {
      "cell_type": "markdown",
      "metadata": {
        "id": "9-4pweQ-Mqfo"
      },
      "source": [
        "DecisionTreeClassifier.cost_complexity_pruning_path : returns the effective alphas and the corresponding total leaf impurities at each step of the pruning process. As alpha increases, more of the tree is pruned, which increases the total impurity of its leaves."
      ]
    },
    {
      "cell_type": "code",
      "execution_count": null,
      "metadata": {
        "id": "M5IprneS7nv0"
      },
      "outputs": [],
      "source": [
        "from sklearn.tree import DecisionTreeClassifier"
      ]
    },
    {
      "cell_type": "markdown",
      "metadata": {
        "id": "e9jxGU5NN4P5"
      },
      "source": [
        "<b>For each value of ccp_alpha, train a DecisionTree model and store it in models.</b>"
      ]
    },
    {
      "cell_type": "code",
      "execution_count": null,
      "metadata": {
        "colab": {
          "base_uri": "https://localhost:8080/"
        },
        "id": "zwIeKeEH6tY1",
        "outputId": "d95e83e9-6291-452f-fd90-1e0bf705c9f1"
      },
      "outputs": [
        {
          "name": "stdout",
          "output_type": "stream",
          "text": [
            "Number of nodes in the last tree is: 1 with ccp_alpha: 0.12503939161206412\n"
          ]
        }
      ],
      "source": [
        "models = []\n",
        "for ccp_alpha in ccp_alphas:\n",
        "    model = DecisionTreeClassifier(random_state=0, ccp_alpha=ccp_alpha)\n",
        "    model.fit(X_train, y_train)\n",
        "    models.append(model)\n",
        "print(\"Number of nodes in the last tree is: {} with ccp_alpha: {}\".format(\n",
        "      models[-1].tree_.node_count, ccp_alphas[-1]))"
      ]
    },
    {
      "cell_type": "markdown",
      "metadata": {
        "id": "ppmTm0gmOJe2"
      },
      "source": [
        "<b>For all the models trained for different values of ccp_alpha, find training and testing accuracy and plot it.</b>"
      ]
    },
    {
      "cell_type": "code",
      "execution_count": null,
      "metadata": {
        "colab": {
          "base_uri": "https://localhost:8080/",
          "height": 410
        },
        "id": "V2Wucpar62G8",
        "outputId": "81786509-19c3-4eca-b76c-51bfed84bdb2"
      },
      "outputs": [
        {
          "data": {
            "image/png": "[encoded data removed]",
            "text/plain": [
              "<Figure size 1296x432 with 1 Axes>"
            ]
          },
          "metadata": {
            "needs_background": "light"
          },
          "output_type": "display_data"
        }
      ],
      "source": [
        "# Calculate train and test accuracy of all the models\n",
        "train_scores = [model.score(X_train, y_train) for model in models]\n",
        "test_scores = [model.score(X_test, y_test) for model in models]\n",
        "\n",
        "# plot training and testingaccuracy\n",
        "fig, ax = plt.subplots(figsize = (18,6))\n",
        "ax.set_xlabel(\"alpha\", fontsize = 14)\n",
        "ax.set_ylabel(\"Accuracy\", fontsize = 14)\n",
        "ax.set_title(\"Accuracy vs alpha for training and testing sets\", fontsize = 16)\n",
        "ax.plot(ccp_alphas, train_scores, marker='o', label=\"train\",\n",
        "        drawstyle=\"steps-post\")\n",
        "ax.plot(ccp_alphas, test_scores, marker='o', label=\"test\",\n",
        "        drawstyle=\"steps-post\")\n",
        "plt.xticks(np.linspace(0,0.15,num=50),rotation=90)\n",
        "ax.legend()\n",
        "ax.grid()\n",
        "plt.show()"
      ]
    },
    {
      "cell_type": "markdown",
      "metadata": {
        "id": "1jFmYxjSPe2U"
      },
      "source": [
        " - From the above plot, it is clear that around 0.003 ccp_alpha, model accuracy for test data is highest.\n",
        " - It can also be noted that near 0.003 ccp_alpha, training and testing accuracies are almost equal which means model is not over-fitting."
      ]
    },
    {
      "cell_type": "markdown",
      "metadata": {
        "id": "R3u5QJaTQTmz"
      },
      "source": [
        "<b> Train Final Decision tree model with the selected value of ccp_alpha.</b>"
      ]
    },
    {
      "cell_type": "code",
      "execution_count": null,
      "metadata": {
        "colab": {
          "base_uri": "https://localhost:8080/"
        },
        "id": "bk0WhC2C7-4x",
        "outputId": "8a3e103c-6c1e-4482-e74d-84e6c1e6f75d"
      },
      "outputs": [
        {
          "data": {
            "text/plain": [
              "DecisionTreeClassifier(ccp_alpha=0.00303192, random_state=0)"
            ]
          },
          "execution_count": 38,
          "metadata": {},
          "output_type": "execute_result"
        }
      ],
      "source": [
        "model = DecisionTreeClassifier(random_state=0, ccp_alpha=0.00303192)\n",
        "model.fit(X_train,y_train)"
      ]
    },
    {
      "cell_type": "code",
      "execution_count": null,
      "metadata": {
        "colab": {
          "base_uri": "https://localhost:8080/"
        },
        "id": "_Vyy4CHW84_r",
        "outputId": "31bb990a-faf9-4d07-a83c-94692295b68d"
      },
      "outputs": [
        {
          "name": "stdout",
          "output_type": "stream",
          "text": [
            "Model accuracy after post-pruning : 0.8396\n"
          ]
        }
      ],
      "source": [
        "# Make predictions for testing data\n",
        "pred=model.predict(X_test)\n",
        "\n",
        "# Import accuracy_score, which also calculates the accuracy of predictions\n",
        "from sklearn.metrics import accuracy_score\n",
        "print('Model accuracy after post-pruning :',round(accuracy_score(y_test, pred),4))"
      ]
    },
    {
      "cell_type": "code",
      "execution_count": null,
      "metadata": {
        "id": "PfJK4JQYUlzU",
        "outputId": "54e44e7a-0dc7-4068-a5a3-720c4e998aa1"
      },
      "outputs": [
        {
          "data": {
            "image/png": "[encoded data removed]",
            "text/plain": [
              "<Figure size 432x288 with 1 Axes>"
            ]
          },
          "metadata": {
            "needs_background": "light"
          },
          "output_type": "display_data"
        }
      ],
      "source": [
        "tree.plot_tree(model,filled=True);"
      ]
    },
    {
      "cell_type": "markdown",
      "metadata": {
        "id": "QIbQmCVuRhAa"
      },
      "source": [
        "The model accuracy after post pruning increased. This shows that without post pruning, our initial decisionTree model was over-fitting on the training data."
      ]
    },
    {
      "cell_type": "markdown",
      "metadata": {
        "id": "ukA-b1cASBQl"
      },
      "source": [
        "<b> Lets visualize our final DecisonTree model to observe the effect of post-pruning. </b>"
      ]
    },
    {
      "cell_type": "code",
      "execution_count": null,
      "metadata": {
        "id": "KPu7XI_nUlzU",
        "outputId": "4345a7c8-ec21-45a0-dae5-8ec9655f37a2"
      },
      "outputs": [
        {
          "data": {
            "text/html": [
              "<div>\n",
              "<style scoped>\n",
              "    .dataframe tbody tr th:only-of-type {\n",
              "        vertical-align: middle;\n",
              "    }\n",
              "\n",
              "    .dataframe tbody tr th {\n",
              "        vertical-align: top;\n",
              "    }\n",
              "\n",
              "    .dataframe thead th {\n",
              "        text-align: right;\n",
              "    }\n",
              "</style>\n",
              "<table border=\"1\" class=\"dataframe\">\n",
              "  <thead>\n",
              "    <tr style=\"text-align: right;\">\n",
              "      <th></th>\n",
              "      <th>Pclass</th>\n",
              "      <th>Sex</th>\n",
              "      <th>Age</th>\n",
              "      <th>Fare</th>\n",
              "    </tr>\n",
              "    <tr>\n",
              "      <th>PassengerId</th>\n",
              "      <th></th>\n",
              "      <th></th>\n",
              "      <th></th>\n",
              "      <th></th>\n",
              "    </tr>\n",
              "  </thead>\n",
              "  <tbody>\n",
              "    <tr>\n",
              "      <th>350</th>\n",
              "      <td>3</td>\n",
              "      <td>1</td>\n",
              "      <td>42.000000</td>\n",
              "      <td>8.6625</td>\n",
              "    </tr>\n",
              "    <tr>\n",
              "      <th>711</th>\n",
              "      <td>1</td>\n",
              "      <td>0</td>\n",
              "      <td>24.000000</td>\n",
              "      <td>49.5042</td>\n",
              "    </tr>\n",
              "    <tr>\n",
              "      <th>630</th>\n",
              "      <td>3</td>\n",
              "      <td>1</td>\n",
              "      <td>29.699118</td>\n",
              "      <td>7.7333</td>\n",
              "    </tr>\n",
              "    <tr>\n",
              "      <th>510</th>\n",
              "      <td>3</td>\n",
              "      <td>1</td>\n",
              "      <td>26.000000</td>\n",
              "      <td>56.4958</td>\n",
              "    </tr>\n",
              "    <tr>\n",
              "      <th>220</th>\n",
              "      <td>2</td>\n",
              "      <td>1</td>\n",
              "      <td>30.000000</td>\n",
              "      <td>10.5000</td>\n",
              "    </tr>\n",
              "  </tbody>\n",
              "</table>\n",
              "</div>"
            ],
            "text/plain": [
              "             Pclass  Sex        Age     Fare\n",
              "PassengerId                                 \n",
              "350               3    1  42.000000   8.6625\n",
              "711               1    0  24.000000  49.5042\n",
              "630               3    1  29.699118   7.7333\n",
              "510               3    1  26.000000  56.4958\n",
              "220               2    1  30.000000  10.5000"
            ]
          },
          "execution_count": 41,
          "metadata": {},
          "output_type": "execute_result"
        }
      ],
      "source": [
        "X_train.head()"
      ]
    },
    {
      "cell_type": "code",
      "execution_count": null,
      "metadata": {
        "id": "FMIl0ILyUlzU",
        "outputId": "f2c0c7a4-3f40-400c-8caf-83f6795b7958"
      },
      "outputs": [
        {
          "data": {
            "text/plain": [
              "RandomForestClassifier(ccp_alpha=0.00303192, n_estimators=150)"
            ]
          },
          "execution_count": 60,
          "metadata": {},
          "output_type": "execute_result"
        }
      ],
      "source": [
        "from sklearn.ensemble import RandomForestClassifier\n",
        "clf=RandomForestClassifier(n_estimators=150,ccp_alpha=0.00303192)\n",
        "clf.fit(X_train,y_train)"
      ]
    },
    {
      "cell_type": "markdown",
      "metadata": {
        "id": "LOr2fUmATdBe"
      },
      "source": [
        "<b>It can be observed that after post-pruning, the size of decision tree reduced.</b>"
      ]
    },
    {
      "cell_type": "code",
      "execution_count": null,
      "metadata": {
        "id": "c_N_w7W1UlzV"
      },
      "outputs": [],
      "source": [
        "y_predict=clf.predict(X_test)"
      ]
    },
    {
      "cell_type": "code",
      "execution_count": null,
      "metadata": {
        "id": "R36LsCyyUlzV",
        "outputId": "a4935d4a-9365-4581-90dd-43d39509bd94"
      },
      "outputs": [
        {
          "data": {
            "text/plain": [
              "0.8470149253731343"
            ]
          },
          "execution_count": 62,
          "metadata": {},
          "output_type": "execute_result"
        }
      ],
      "source": [
        "from sklearn.metrics import accuracy_score\n",
        "accuracy_score(y_test,y_predict)"
      ]
    },
    {
      "cell_type": "code",
      "execution_count": null,
      "metadata": {
        "id": "jhFM_bZQUlzV",
        "outputId": "41d070be-3e33-4aa0-b3e0-1803f8f39212"
      },
      "outputs": [
        {
          "data": {
            "text/plain": [
              "array([0.13722354, 0.36101423, 0.21732028, 0.28444195])"
            ]
          },
          "execution_count": 65,
          "metadata": {},
          "output_type": "execute_result"
        }
      ],
      "source": [
        "clf.feature_importances_\n",
        "clf."
      ]
    },
    {
      "cell_type": "code",
      "execution_count": null,
      "metadata": {
        "id": "nFBsCaPAUlzV",
        "outputId": "1a97c60e-ee3d-4c12-e112-c25fc5d80f7f"
      },
      "outputs": [
        {
          "data": {
            "text/html": [
              "<div>\n",
              "<style scoped>\n",
              "    .dataframe tbody tr th:only-of-type {\n",
              "        vertical-align: middle;\n",
              "    }\n",
              "\n",
              "    .dataframe tbody tr th {\n",
              "        vertical-align: top;\n",
              "    }\n",
              "\n",
              "    .dataframe thead th {\n",
              "        text-align: right;\n",
              "    }\n",
              "</style>\n",
              "<table border=\"1\" class=\"dataframe\">\n",
              "  <thead>\n",
              "    <tr style=\"text-align: right;\">\n",
              "      <th></th>\n",
              "      <th>Pclass</th>\n",
              "      <th>Sex</th>\n",
              "      <th>Age</th>\n",
              "      <th>Fare</th>\n",
              "    </tr>\n",
              "    <tr>\n",
              "      <th>PassengerId</th>\n",
              "      <th></th>\n",
              "      <th></th>\n",
              "      <th></th>\n",
              "      <th></th>\n",
              "    </tr>\n",
              "  </thead>\n",
              "  <tbody>\n",
              "    <tr>\n",
              "      <th>350</th>\n",
              "      <td>3</td>\n",
              "      <td>1</td>\n",
              "      <td>42.000000</td>\n",
              "      <td>8.6625</td>\n",
              "    </tr>\n",
              "    <tr>\n",
              "      <th>711</th>\n",
              "      <td>1</td>\n",
              "      <td>0</td>\n",
              "      <td>24.000000</td>\n",
              "      <td>49.5042</td>\n",
              "    </tr>\n",
              "    <tr>\n",
              "      <th>630</th>\n",
              "      <td>3</td>\n",
              "      <td>1</td>\n",
              "      <td>29.699118</td>\n",
              "      <td>7.7333</td>\n",
              "    </tr>\n",
              "    <tr>\n",
              "      <th>510</th>\n",
              "      <td>3</td>\n",
              "      <td>1</td>\n",
              "      <td>26.000000</td>\n",
              "      <td>56.4958</td>\n",
              "    </tr>\n",
              "    <tr>\n",
              "      <th>220</th>\n",
              "      <td>2</td>\n",
              "      <td>1</td>\n",
              "      <td>30.000000</td>\n",
              "      <td>10.5000</td>\n",
              "    </tr>\n",
              "  </tbody>\n",
              "</table>\n",
              "</div>"
            ],
            "text/plain": [
              "             Pclass  Sex        Age     Fare\n",
              "PassengerId                                 \n",
              "350               3    1  42.000000   8.6625\n",
              "711               1    0  24.000000  49.5042\n",
              "630               3    1  29.699118   7.7333\n",
              "510               3    1  26.000000  56.4958\n",
              "220               2    1  30.000000  10.5000"
            ]
          },
          "execution_count": 66,
          "metadata": {},
          "output_type": "execute_result"
        }
      ],
      "source": [
        "X_train.head()"
      ]
    }
  ],
  "metadata": {
    "colab": {
      "provenance": []
    },
    "kernelspec": {
      "display_name": "Python 3",
      "language": "python",
      "name": "python3"
    },
    "language_info": {
      "codemirror_mode": {
        "name": "ipython",
        "version": 3
      },
      "file_extension": ".py",
      "mimetype": "text/x-python",
      "name": "python",
      "nbconvert_exporter": "python",
      "pygments_lexer": "ipython3",
      "version": "3.9.1"
    }
  },
  "nbformat": 4,
  "nbformat_minor": 0
}